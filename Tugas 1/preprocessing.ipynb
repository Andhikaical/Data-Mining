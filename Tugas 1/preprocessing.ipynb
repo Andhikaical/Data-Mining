{
  "nbformat": 4,
  "nbformat_minor": 0,
  "metadata": {
    "colab": {
      "provenance": []
    },
    "kernelspec": {
      "name": "python3",
      "display_name": "Python 3"
    },
    "language_info": {
      "name": "python"
    }
  },
  "cells": [
    {
      "cell_type": "code",
      "execution_count": 1,
      "metadata": {
        "id": "uH15otLrAx0U"
      },
      "outputs": [],
      "source": [
        "import numpy as np\n",
        "import matplotlib.pyplot as plt\n",
        "import pandas as pd"
      ]
    },
    {
      "cell_type": "code",
      "source": [
        "dataset = pd.read_csv('Data1.csv')\n",
        "x = dataset.iloc[:, :-1].values\n",
        "y = dataset.iloc[:, -1].values"
      ],
      "metadata": {
        "id": "BIwaBtwNCb8U"
      },
      "execution_count": 5,
      "outputs": []
    },
    {
      "cell_type": "code",
      "source": [
        "print(x)\n"
      ],
      "metadata": {
        "colab": {
          "base_uri": "https://localhost:8080/"
        },
        "id": "CJctcZa-CnRz",
        "outputId": "6632207e-9760-4640-9f2c-4234abee65e1"
      },
      "execution_count": 6,
      "outputs": [
        {
          "output_type": "stream",
          "name": "stdout",
          "text": [
            "[['France' 44.0 72000.0]\n",
            " ['Spain' 27.0 48000.0]\n",
            " ['Germany' 30.0 54000.0]\n",
            " ['Spain' 38.0 61000.0]\n",
            " ['Germany' 40.0 nan]\n",
            " ['France' 35.0 58000.0]\n",
            " ['Spain' nan 52000.0]\n",
            " ['France' 48.0 79000.0]\n",
            " ['Germany' 50.0 83000.0]\n",
            " ['France' 37.0 67000.0]\n",
            " ['Belgium' 34.0 56000.0]\n",
            " ['Norway' nan 60000.0]\n",
            " ['Italy' 42.0 70000.0]\n",
            " ['France' 38.0 61000.0]\n",
            " ['Spain' 28.0 49000.0]\n",
            " ['Spain' nan 61000.0]\n",
            " ['Germany' nan 78000.0]\n",
            " ['France' 40.0 nan]\n",
            " ['Belgium' 34.0 nan]\n",
            " ['Norway' 30.0 54000.0]]\n"
          ]
        }
      ]
    },
    {
      "cell_type": "code",
      "source": [
        "dataset = pd.read_csv('Data1.csv')\n",
        "x = dataset.iloc[:, :-1].values\n",
        "y = dataset.iloc[:, -1].values"
      ],
      "metadata": {
        "id": "F6mjBvr7CrD2"
      },
      "execution_count": 8,
      "outputs": []
    },
    {
      "cell_type": "code",
      "source": [
        "from sklearn.impute import SimpleImputer\n",
        "imputer = SimpleImputer(missing_values=np.nan, strategy='mean')\n",
        "imputer.fit(x[:, 1:3])\n",
        "x[:, 1:3] = imputer.transform(x[:, 1:3])"
      ],
      "metadata": {
        "id": "aFJYWWguCvYx"
      },
      "execution_count": 9,
      "outputs": []
    },
    {
      "cell_type": "code",
      "source": [
        "print(x)"
      ],
      "metadata": {
        "colab": {
          "base_uri": "https://localhost:8080/"
        },
        "id": "QRAmUvcxCzMI",
        "outputId": "c004f778-a703-41fe-829d-3927b6d1f4f4"
      },
      "execution_count": 10,
      "outputs": [
        {
          "output_type": "stream",
          "name": "stdout",
          "text": [
            "[['France' 44.0 72000.0]\n",
            " ['Spain' 27.0 48000.0]\n",
            " ['Germany' 30.0 54000.0]\n",
            " ['Spain' 38.0 61000.0]\n",
            " ['Germany' 40.0 62529.41176470588]\n",
            " ['France' 35.0 58000.0]\n",
            " ['Spain' 37.1875 52000.0]\n",
            " ['France' 48.0 79000.0]\n",
            " ['Germany' 50.0 83000.0]\n",
            " ['France' 37.0 67000.0]\n",
            " ['Belgium' 34.0 56000.0]\n",
            " ['Norway' 37.1875 60000.0]\n",
            " ['Italy' 42.0 70000.0]\n",
            " ['France' 38.0 61000.0]\n",
            " ['Spain' 28.0 49000.0]\n",
            " ['Spain' 37.1875 61000.0]\n",
            " ['Germany' 37.1875 78000.0]\n",
            " ['France' 40.0 62529.41176470588]\n",
            " ['Belgium' 34.0 62529.41176470588]\n",
            " ['Norway' 30.0 54000.0]]\n"
          ]
        }
      ]
    },
    {
      "cell_type": "code",
      "source": [
        "from sklearn.compose import ColumnTransformer\n",
        "from sklearn.preprocessing import OneHotEncoder\n",
        "ct = ColumnTransformer(transformers=[('encoder', OneHotEncoder(), [0])], remainder='passthrough')\n",
        "x = np.array(ct.fit_transform(x))"
      ],
      "metadata": {
        "id": "OywgTffMC45f"
      },
      "execution_count": 11,
      "outputs": []
    },
    {
      "cell_type": "code",
      "source": [
        "from sklearn.preprocessing import LabelEncoder\n",
        "le = LabelEncoder()\n",
        "y = le.fit_transform(y)"
      ],
      "metadata": {
        "id": "Y9Qgvr15C6aD"
      },
      "execution_count": 12,
      "outputs": []
    },
    {
      "cell_type": "code",
      "source": [
        "print(y)"
      ],
      "metadata": {
        "colab": {
          "base_uri": "https://localhost:8080/"
        },
        "id": "tqTVHFuDC8Ep",
        "outputId": "12e55d71-804b-405c-e230-56fd6bc8e1de"
      },
      "execution_count": 13,
      "outputs": [
        {
          "output_type": "stream",
          "name": "stdout",
          "text": [
            "[0 1 0 0 1 1 0 1 0 1 1 1 0 1 0 0 1 0 1 0]\n"
          ]
        }
      ]
    },
    {
      "cell_type": "code",
      "source": [
        "from sklearn.model_selection import train_test_split\n",
        "x_train, x_test, y_train, y_test = train_test_split(x, y, test_size=0.2, random_state=1)"
      ],
      "metadata": {
        "id": "cxBcxCUhDBK5"
      },
      "execution_count": 14,
      "outputs": []
    },
    {
      "cell_type": "code",
      "source": [
        "print(x_train)"
      ],
      "metadata": {
        "colab": {
          "base_uri": "https://localhost:8080/"
        },
        "id": "mF9yfiQWDC-W",
        "outputId": "c1f2a4b1-8e9f-4f9d-d65a-d9a76375aa8c"
      },
      "execution_count": 15,
      "outputs": [
        {
          "output_type": "stream",
          "name": "stdout",
          "text": [
            "[[0.0 0.0 1.0 0.0 0.0 0.0 30.0 54000.0]\n",
            " [0.0 0.0 0.0 0.0 0.0 1.0 28.0 49000.0]\n",
            " [0.0 0.0 1.0 0.0 0.0 0.0 40.0 62529.41176470588]\n",
            " [0.0 1.0 0.0 0.0 0.0 0.0 40.0 62529.41176470588]\n",
            " [0.0 1.0 0.0 0.0 0.0 0.0 48.0 79000.0]\n",
            " [0.0 0.0 0.0 0.0 0.0 1.0 27.0 48000.0]\n",
            " [0.0 1.0 0.0 0.0 0.0 0.0 38.0 61000.0]\n",
            " [0.0 1.0 0.0 0.0 0.0 0.0 44.0 72000.0]\n",
            " [0.0 0.0 0.0 0.0 1.0 0.0 30.0 54000.0]\n",
            " [1.0 0.0 0.0 0.0 0.0 0.0 34.0 62529.41176470588]\n",
            " [0.0 1.0 0.0 0.0 0.0 0.0 37.0 67000.0]\n",
            " [0.0 0.0 0.0 0.0 0.0 1.0 37.1875 61000.0]\n",
            " [0.0 0.0 1.0 0.0 0.0 0.0 50.0 83000.0]\n",
            " [0.0 0.0 0.0 1.0 0.0 0.0 42.0 70000.0]\n",
            " [0.0 0.0 0.0 0.0 1.0 0.0 37.1875 60000.0]\n",
            " [0.0 1.0 0.0 0.0 0.0 0.0 35.0 58000.0]]\n"
          ]
        }
      ]
    },
    {
      "cell_type": "code",
      "source": [
        "print(x_test)"
      ],
      "metadata": {
        "colab": {
          "base_uri": "https://localhost:8080/"
        },
        "id": "0FtWbujNDEHh",
        "outputId": "8052b446-61ba-4d5b-fdcd-6195c0c460be"
      },
      "execution_count": 16,
      "outputs": [
        {
          "output_type": "stream",
          "name": "stdout",
          "text": [
            "[[0.0 0.0 0.0 0.0 0.0 1.0 38.0 61000.0]\n",
            " [0.0 0.0 1.0 0.0 0.0 0.0 37.1875 78000.0]\n",
            " [0.0 0.0 0.0 0.0 0.0 1.0 37.1875 52000.0]\n",
            " [1.0 0.0 0.0 0.0 0.0 0.0 34.0 56000.0]]\n"
          ]
        }
      ]
    },
    {
      "cell_type": "code",
      "source": [
        "print(y_train)"
      ],
      "metadata": {
        "colab": {
          "base_uri": "https://localhost:8080/"
        },
        "id": "kasqM2T5DFgl",
        "outputId": "a1fe9e35-0527-41a0-caba-af383fc9d9f8"
      },
      "execution_count": 17,
      "outputs": [
        {
          "output_type": "stream",
          "name": "stdout",
          "text": [
            "[0 0 1 0 1 1 1 0 0 1 1 0 0 0 1 1]\n"
          ]
        }
      ]
    },
    {
      "cell_type": "code",
      "source": [
        "print(y_test)"
      ],
      "metadata": {
        "colab": {
          "base_uri": "https://localhost:8080/"
        },
        "id": "1b4Haup9DI_9",
        "outputId": "6a5643e9-f782-4f82-f8f4-bc5d877278c7"
      },
      "execution_count": 18,
      "outputs": [
        {
          "output_type": "stream",
          "name": "stdout",
          "text": [
            "[0 1 0 1]\n"
          ]
        }
      ]
    },
    {
      "cell_type": "code",
      "source": [
        "from sklearn.preprocessing import StandardScaler\n",
        "sc = StandardScaler()\n",
        "x_train[:, 3:] = sc.fit_transform(x_train[:, 3:])\n",
        "x_test[:, 3:] = sc.fit_transform(x_test[:, 3:])"
      ],
      "metadata": {
        "id": "9eBGxvtMDLdz"
      },
      "execution_count": 19,
      "outputs": []
    },
    {
      "cell_type": "code",
      "source": [
        "print(x_train)\n"
      ],
      "metadata": {
        "colab": {
          "base_uri": "https://localhost:8080/"
        },
        "id": "Tix2UMjLDN27",
        "outputId": "82f83ff4-90ac-443b-e8ec-dc6b42f2ee61"
      },
      "execution_count": 20,
      "outputs": [
        {
          "output_type": "stream",
          "name": "stdout",
          "text": [
            "[[0.0 0.0 1.0 -0.2581988897471611 -0.3779644730092272\n",
            "  -0.48038446141526137 -1.1308961050591904 -0.9239763845971212]\n",
            " [0.0 0.0 0.0 -0.2581988897471611 -0.3779644730092272 2.0816659994661326\n",
            "  -1.4392128280572232 -1.4535203723982524]\n",
            " [0.0 0.0 1.0 -0.2581988897471611 -0.3779644730092272\n",
            "  -0.48038446141526137 0.4106875099309733 -0.020636640701074037]\n",
            " [0.0 1.0 0.0 -0.2581988897471611 -0.3779644730092272\n",
            "  -0.48038446141526137 0.4106875099309733 -0.020636640701074037]\n",
            " [0.0 1.0 0.0 -0.2581988897471611 -0.3779644730092272\n",
            "  -0.48038446141526137 1.6439544019231043 1.7237435544085347]\n",
            " [0.0 0.0 0.0 -0.2581988897471611 -0.3779644730092272 2.0816659994661326\n",
            "  -1.5933711895562397 -1.5594291699584786]\n",
            " [0.0 1.0 0.0 -0.2581988897471611 -0.3779644730092272\n",
            "  -0.48038446141526137 0.10237078693294056 -0.18261480167553754]\n",
            " [0.0 1.0 0.0 -0.2581988897471611 -0.3779644730092272\n",
            "  -0.48038446141526137 1.0273209559270389 0.982381971486951]\n",
            " [0.0 0.0 0.0 -0.2581988897471611 2.6457513110645903 -0.48038446141526137\n",
            "  -1.1308961050591904 -0.9239763845971212]\n",
            " [1.0 0.0 0.0 -0.2581988897471611 -0.3779644730092272\n",
            "  -0.48038446141526137 -0.514262659063125 -0.020636640701074037]\n",
            " [0.0 1.0 0.0 -0.2581988897471611 -0.3779644730092272\n",
            "  -0.48038446141526137 -0.051787574566075814 0.45283798368581984]\n",
            " [0.0 0.0 0.0 -0.2581988897471611 -0.3779644730092272 2.0816659994661326\n",
            "  -0.022882881785010245 -0.18261480167553754]\n",
            " [0.0 0.0 1.0 -0.2581988897471611 -0.3779644730092272\n",
            "  -0.48038446141526137 1.952271124921137 2.1473787446494397]\n",
            " [0.0 0.0 0.0 3.8729833462074166 -0.3779644730092272 -0.48038446141526137\n",
            "  0.7190042329290061 0.7705643763664985]\n",
            " [0.0 0.0 0.0 -0.2581988897471611 2.6457513110645903 -0.48038446141526137\n",
            "  -0.022882881785010245 -0.28852359923576376]\n",
            " [0.0 1.0 0.0 -0.2581988897471611 -0.3779644730092272\n",
            "  -0.48038446141526137 -0.36010429756410856 -0.5003411943562163]]\n"
          ]
        }
      ]
    }
  ]
}